{
 "cells": [
  {
   "cell_type": "markdown",
   "metadata": {},
   "source": [
    "# Regional Analysis & Action Proposal"
   ]
  },
  {
   "cell_type": "markdown",
   "metadata": {},
   "source": [
    "**Data analysis of regional needs and opportunities for new fee-for-services business model.** \n",
    "This comprehensive document includes code for cleaning and exploratory data analyses, visualization of key findings, overlay and multidimensional analyses, and conclusive findings. \n",
    "Each section is hyperlinked below.\n",
    "\n",
    "#### Outline\n",
    "- <a href=\"#intro\">Introduction</a>\n",
    "- <a href=\"#postsec\">Post-secondary Data</a>\n",
    "  - <a href=\"#enroll\">Enrollment</a>\n",
    "  - <a href=\"#finance\">Financing</a>\n",
    "- <a href=\"#spending\">Education Spending Data</a>\n",
    "  - <a href=\"#pg\">Programs and Grants</a>\n",
    "  - <a href=\"#eda2\">EDA</a>\n",
    "- <a href=\"#overlay\">Overlay Analysis</a>\n",
    "- <a href=\"#summary\">Summary</a>\n",
    "<!-- - <a href=\"#funcOper\">Functional Operators</a>\n",
    "  - <a href=\"#map\">map</a>\n",
    "  - <a href=\"#bool\">Boolean Functions</a>\n",
    "  - <a href=\"#filter\">filter</a>\n",
    "- <a href=\"#multiList\">Multiple-list Operations\n",
    "- <a href=\"#string\">String operations</a>\n",
    " - <a href=\"#strBasic\">String Basics</a>\n",
    " - <a href=\"#OMC\">Object Method and Class Method Calls</a>\n",
    " - <a href=\"#buildin\">Built-in Strings Operations</a>\n",
    " - <a href=\"#MinMap\">Object Method Calls in map</a>\n",
    " - <a href=\"#case\">Case conversion</a>\n",
    "- <a href=\"#sol\">Solutions</a> -->"
   ]
  },
  {
   "cell_type": "markdown",
   "metadata": {},
   "source": [
    "### Libraries"
   ]
  },
  {
   "cell_type": "code",
   "execution_count": 1,
   "metadata": {},
   "outputs": [],
   "source": [
    "import pandas as pd\n",
    "import numpy as np"
   ]
  },
  {
   "cell_type": "markdown",
   "metadata": {},
   "source": [
    "## Post-secondary Data"
   ]
  },
  {
   "cell_type": "markdown",
   "metadata": {},
   "source": [
    "### Enrollment\n",
    "\n",
    "These data sources describe educational enrollment and attainment data on state and local levels."
   ]
  },
  {
   "cell_type": "code",
   "execution_count": null,
   "metadata": {},
   "outputs": [],
   "source": []
  },
  {
   "cell_type": "markdown",
   "metadata": {},
   "source": [
    "### Financing\n",
    "\n",
    "These data sources describe education financing on state and local levels, including statistics on FAFSA application trends.  \n"
   ]
  },
  {
   "cell_type": "code",
   "execution_count": null,
   "metadata": {},
   "outputs": [],
   "source": []
  },
  {
   "cell_type": "markdown",
   "metadata": {},
   "source": [
    "## Education Spending Data\n",
    "\n",
    "These data sources describe educational spending on state and local levels as well as specific programs and grants available in those regions.  "
   ]
  },
  {
   "cell_type": "code",
   "execution_count": null,
   "metadata": {},
   "outputs": [],
   "source": [
    "# csp_df = "
   ]
  },
  {
   "cell_type": "markdown",
   "metadata": {},
   "source": [
    "#### Sources\n",
    "- <a href=\"https://www2.ed.gov/about/overview/budget/history/index.html\" class=\"link-external\" target=\"_blank\">United States Department of Education, Budget History Tables</a>\n",
    "- <a href=\"https://nces.ed.gov/programs/coe/\" class=\"link-external\" target=\"_blank\">National Center for Education Statistics (NCES), The Condition of Education</a>\n",
    "- <a href=\"https://nces.ed.gov/programs/digest/current_tables.asp\" class=\"link-external\" target=\"_blank\">NCES, Digest of Education</a>\n",
    "- <a href=\"https://nces.ed.gov/ipeds/\" class=\"link-external\" target=\"_blank\">NCES, Integrated Postsecondary Education Data System</a>\n",
    "- <a href=\"https://educationdata.org/college-enrollment-statistics\" class=\"link-external\" target=\"_blank\">EducationData.org, College Enrollment & Student Demographic Statistics</a>\n",
    "- <a href=\"https://educationdata.org/number-of-college-graduates\" class=\"link-external\" target=\"_blank\">EducationData.org, College Graduation Statistics</a> \n",
    "- <a href=\"https://educationdata.org/education-attainment-statistics\" class=\"link-external\" target=\"_blank\">EducationData.org, Education Attainment Statistics</a>\n",
    "- <a href=\"https://educationdata.org/financial-aid-statistics\" class=\"link-external\" target=\"_blank\">EducationData.org, Financial Aid Statistics</a>\n",
    "- <a href=\"https://educationdata.org/public-education-spending-statistics\" class=\"link-external\" target=\"_blank\">EducationData.org, U.S. Public Education Spending Statistics</a>\n",
    "\n"
   ]
  }
 ],
 "metadata": {
  "interpreter": {
   "hash": "4743e1ee7fdbe1e6d54a91998f9bccab9983d4559d943f835b10a13f201f24ae"
  },
  "kernelspec": {
   "display_name": "Python 3.10.2 64-bit (system)",
   "language": "python",
   "name": "python3"
  },
  "language_info": {
   "codemirror_mode": {
    "name": "ipython",
    "version": 3
   },
   "file_extension": ".py",
   "mimetype": "text/x-python",
   "name": "python",
   "nbconvert_exporter": "python",
   "pygments_lexer": "ipython3",
   "version": "3.10.0"
  },
  "orig_nbformat": 4
 },
 "nbformat": 4,
 "nbformat_minor": 2
}
