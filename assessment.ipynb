{
 "cells": [
  {
   "cell_type": "markdown",
   "metadata": {},
   "source": [
    "# Regional Analysis & Action Proposal"
   ]
  },
  {
   "cell_type": "markdown",
   "metadata": {},
   "source": [
    "**Data analysis of regional needs and opportunities for new fee-for-services business model.** \n",
    "This document includes code for cleaning and exploratory data analyses, visualization of key findings, overlay and multidimensional analyses, and conclusive findings. \n",
    "Each section is hyperlinked below.\n",
    "\n",
    "#### Outline\n",
    "- <a href=\"#intro\">Introduction</a>\n",
    "- <a href=\"#simple\">Postsecondary Data</a>\n",
    "  - <a href=\"#lambda\">Data Cleaning</a>\n",
    "  - <a href=\"#list\">EDA</a>\n",
    "- <a href=\"#nList\">Education Spending Data</a>\n",
    "  - <a href=\"#lambda\">Data Cleaning</a>\n",
    "  - <a href=\"#list\">EDA</a>\n",
    "- <a href=\"#overlay\">Overlay of findings</a>\n",
    "  - <a href=\"#funcOnList\">Summary</a>\n",
    "- <a href=\"#Conclusions\">Conclusion</a>\n",
    "<!-- - <a href=\"#funcOper\">Functional Operators</a>\n",
    "  - <a href=\"#map\">map</a>\n",
    "  - <a href=\"#bool\">Boolean Functions</a>\n",
    "  - <a href=\"#filter\">filter</a>\n",
    "- <a href=\"#multiList\">Multiple-list Operations\n",
    "- <a href=\"#string\">String operations</a>\n",
    " - <a href=\"#strBasic\">String Basics</a>\n",
    " - <a href=\"#OMC\">Object Method and Class Method Calls</a>\n",
    " - <a href=\"#buildin\">Built-in Strings Operations</a>\n",
    " - <a href=\"#MinMap\">Object Method Calls in map</a>\n",
    " - <a href=\"#case\">Case conversion</a>\n",
    "- <a href=\"#sol\">Solutions</a> -->\n",
    " \n",
    "\n",
    " \n",
    "\n",
    "#### Sources\n",
    "- <a href=\"https://www2.ed.gov/about/overview/budget/history/index.html\" class=\"link-external\" target=\"_blank\">United States Department of Education, Budget History Tables</a>\n",
    "- <a href=\"https://nces.ed.gov/programs/digest/index.asp\" class=\"link-external\" target=\"_blank\">National Center of Education Statistics (NCES), Digest of Education</a>\n",
    "- <a href=\"https://nces.ed.gov/ipeds/\" class=\"link-external\" target=\"_blank\">NCES, Integrated Postsecondary Education Data System</a>\n",
    "- <a href=\"https://educationdata.org/college-enrollment-statistics\" class=\"link-external\" target=\"_blank\">EducationData.org, College Enrollment & Student Demographic Statistics</a>\n",
    "- <a href=\"https://educationdata.org/number-of-college-graduates\" class=\"link-external\" target=\"_blank\">EducationData.org, College Graduation Statistics</a> \n",
    "- <a href=\"https://educationdata.org/education-attainment-statistics\" class=\"link-external\" target=\"_blank\">EducationData.org, Education Attainment Statistics</a>\n",
    "- <a href=\"https://educationdata.org/financial-aid-statistics\" class=\"link-external\" target=\"_blank\">EducationData.org, Financial Aid Statistics</a>\n",
    "- <a href=\"https://educationdata.org/public-education-spending-statistics\" class=\"link-external\" target=\"_blank\">EducationData.org, U.S. Public Education Spending Statistics</a>\n",
    "\n"
   ]
  },
  {
   "cell_type": "markdown",
   "metadata": {},
   "source": [
    "### Libraries"
   ]
  },
  {
   "cell_type": "code",
   "execution_count": null,
   "metadata": {},
   "outputs": [],
   "source": [
    "import pandas as pd\n",
    "import numpy as np"
   ]
  },
  {
   "cell_type": "markdown",
   "metadata": {},
   "source": [
    "## Post-secondary Data"
   ]
  },
  {
   "cell_type": "code",
   "execution_count": null,
   "metadata": {},
   "outputs": [],
   "source": []
  },
  {
   "cell_type": "markdown",
   "metadata": {},
   "source": [
    "csp_df = "
   ]
  }
 ],
 "metadata": {
  "interpreter": {
   "hash": "4743e1ee7fdbe1e6d54a91998f9bccab9983d4559d943f835b10a13f201f24ae"
  },
  "kernelspec": {
   "display_name": "Python 3.10.2 64-bit (system)",
   "language": "python",
   "name": "python3"
  },
  "language_info": {
   "name": "python",
   "version": "3.8.8"
  },
  "orig_nbformat": 4
 },
 "nbformat": 4,
 "nbformat_minor": 2
}
